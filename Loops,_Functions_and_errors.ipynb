{
  "nbformat": 4,
  "nbformat_minor": 0,
  "metadata": {
    "colab": {
      "provenance": [],
      "authorship_tag": "ABX9TyMohUYsdH2eMXjxvzjlmgR9",
      "include_colab_link": true
    },
    "kernelspec": {
      "name": "python3",
      "display_name": "Python 3"
    },
    "language_info": {
      "name": "python"
    }
  },
  "cells": [
    {
      "cell_type": "markdown",
      "metadata": {
        "id": "view-in-github",
        "colab_type": "text"
      },
      "source": [
        "<a href=\"https://colab.research.google.com/github/Diyaash/loops-functions-and-errors/blob/main/Loops%2C_Functions_and_errors.ipynb\" target=\"_parent\"><img src=\"https://colab.research.google.com/assets/colab-badge.svg\" alt=\"Open In Colab\"/></a>"
      ]
    },
    {
      "cell_type": "code",
      "execution_count": null,
      "metadata": {
        "id": "S5cygJh4uliU"
      },
      "outputs": [],
      "source": [
        "import random\n",
        "lst = input('Enter name of your best friends').split()\n",
        "while True:\n",
        "    a = input('Do you want to add more names? [Y/N]') #break -\n",
        "    if a.upper() == 'Y':\n",
        "         new_name = input('Enter the name') #append - it will add a value in the list at the end. and keep on adding it at the ends."
      ]
    },
    {
      "cell_type": "markdown",
      "source": [
        "WHILE and RANDOM COMMAND\n"
      ],
      "metadata": {
        "id": "cUd3u499xZj1"
      }
    },
    {
      "cell_type": "code",
      "source": [
        "import random\n",
        "donation = 0\n",
        "\n",
        "target = 5000000\n",
        "  # if we use the random command outside the while loop then it will choose one random value and then continue to add the same amount with every donation.\n",
        "while donation >= target:\n",
        "  random_donation = random.randint(100, 50000) # inside the while loop hence it will change with EVERY donation amount.\n",
        "  print('current collection', donation)\n",
        "  donation = donation + random_donation\n",
        "\n",
        "  # break : it is used to break the working loop if we have not specified a condition like ' while donation <= target '\n",
        "\n"
      ],
      "metadata": {
        "id": "Pg3MK6xWxYCy"
      },
      "execution_count": 7,
      "outputs": []
    },
    {
      "cell_type": "code",
      "source": [
        "import random\n",
        "fundraiser = 0\n",
        "\n",
        "target = int(input('How much money do we want to raise for Animal Welfare Awareness?'))\n",
        "while True:\n",
        "  random_fund = random.randint(100, 10000)\n",
        "  fundraiser = fundraiser + random_fund\n",
        "  print('amount raised as of now', fundraiser)\n",
        "  if fundraiser >= 100000:\n",
        "    break"
      ],
      "metadata": {
        "colab": {
          "base_uri": "https://localhost:8080/"
        },
        "id": "qBMygH2m0Tm3",
        "outputId": "de9bc56c-6eda-44a9-8bf5-1d470fe1aae6"
      },
      "execution_count": 11,
      "outputs": [
        {
          "output_type": "stream",
          "name": "stdout",
          "text": [
            "How much money do we want to raise for Animal Welfare Awareness?100000\n",
            "amount raised as of now 7588\n",
            "amount raised as of now 11958\n",
            "amount raised as of now 17401\n",
            "amount raised as of now 19706\n",
            "amount raised as of now 21577\n",
            "amount raised as of now 26926\n",
            "amount raised as of now 36425\n",
            "amount raised as of now 38135\n",
            "amount raised as of now 39048\n",
            "amount raised as of now 46418\n",
            "amount raised as of now 49366\n",
            "amount raised as of now 50434\n",
            "amount raised as of now 55371\n",
            "amount raised as of now 56265\n",
            "amount raised as of now 57915\n",
            "amount raised as of now 65984\n",
            "amount raised as of now 75822\n",
            "amount raised as of now 78407\n",
            "amount raised as of now 86629\n",
            "amount raised as of now 93254\n",
            "amount raised as of now 99608\n",
            "amount raised as of now 103549\n"
          ]
        }
      ]
    },
    {
      "cell_type": "code",
      "source": [
        "from os import spawnve\n",
        "from ast import increment_lineno\n",
        "current_salary = int(input('what is your current salary?'))\n",
        "target = 200000\n",
        "savings = 0\n",
        "save = 0.2 * current_salary\n",
        "\n",
        "while savings <= target:\n",
        "  savings += save\n",
        "\n",
        "  print('you are this close! : ', savings)\n"
      ],
      "metadata": {
        "colab": {
          "base_uri": "https://localhost:8080/"
        },
        "id": "lQ3aYNEs10lS",
        "outputId": "7bab54f6-8ef9-4fc9-d942-2e808b94c94a"
      },
      "execution_count": 7,
      "outputs": [
        {
          "output_type": "stream",
          "name": "stdout",
          "text": [
            "what is your current salary?100000\n",
            "you are this close! :  20000.0\n",
            "you are this close! :  40000.0\n",
            "you are this close! :  60000.0\n",
            "you are this close! :  80000.0\n",
            "you are this close! :  100000.0\n",
            "you are this close! :  120000.0\n",
            "you are this close! :  140000.0\n",
            "you are this close! :  160000.0\n",
            "you are this close! :  180000.0\n",
            "you are this close! :  200000.0\n",
            "you are this close! :  220000.0\n"
          ]
        }
      ]
    },
    {
      "cell_type": "code",
      "source": [
        "\n"
      ],
      "metadata": {
        "id": "xjmQoaUn4HCU"
      },
      "execution_count": 2,
      "outputs": []
    },
    {
      "cell_type": "markdown",
      "source": [
        "FOR LOOP"
      ],
      "metadata": {
        "id": "YhYf_HhS-45i"
      }
    },
    {
      "cell_type": "code",
      "source": [
        "for i in range(5):\n",
        "  if i == 3:\n",
        "    continue #skipping the operator of the condition : i == 3\n",
        "  print(i)"
      ],
      "metadata": {
        "colab": {
          "base_uri": "https://localhost:8080/"
        },
        "id": "NhE13tgz9cfv",
        "outputId": "eb69b865-47b5-4c37-98e3-13783f1b6e21"
      },
      "execution_count": 5,
      "outputs": [
        {
          "output_type": "stream",
          "name": "stdout",
          "text": [
            "0\n",
            "1\n",
            "2\n",
            "4\n"
          ]
        }
      ]
    },
    {
      "cell_type": "code",
      "source": [
        "for i in range(10):\n",
        "  if i == 2:\n",
        "    pass # to print only that value\n",
        "    print(i)"
      ],
      "metadata": {
        "colab": {
          "base_uri": "https://localhost:8080/"
        },
        "id": "JN3_JeFY-w0q",
        "outputId": "cd2222a7-4996-435f-bb7c-7ab85d99c91d"
      },
      "execution_count": 9,
      "outputs": [
        {
          "output_type": "stream",
          "name": "stdout",
          "text": [
            "2\n"
          ]
        }
      ]
    },
    {
      "cell_type": "code",
      "source": [
        "def rand_var(a, b): #user-defined function\n",
        "  z = a * b\n",
        "  return z #print z\n",
        "print(rand_var(2, 3)) # defining a and b values or it will take randomly\n"
      ],
      "metadata": {
        "colab": {
          "base_uri": "https://localhost:8080/"
        },
        "id": "qRs4Jx7MAWoW",
        "outputId": "be049d9a-15e3-45cf-c883-8099a228da92"
      },
      "execution_count": 13,
      "outputs": [
        {
          "output_type": "stream",
          "name": "stdout",
          "text": [
            "6\n"
          ]
        }
      ]
    },
    {
      "cell_type": "code",
      "source": [
        "help(enumerate) #to know about anything in python"
      ],
      "metadata": {
        "colab": {
          "base_uri": "https://localhost:8080/"
        },
        "id": "5FUuKNG-Bagy",
        "outputId": "e2e5c5ad-f8bb-4d65-f61a-1b0353463fd1"
      },
      "execution_count": 14,
      "outputs": [
        {
          "output_type": "stream",
          "name": "stdout",
          "text": [
            "Help on class enumerate in module builtins:\n",
            "\n",
            "class enumerate(object)\n",
            " |  enumerate(iterable, start=0)\n",
            " |  \n",
            " |  Return an enumerate object.\n",
            " |  \n",
            " |    iterable\n",
            " |      an object supporting iteration\n",
            " |  \n",
            " |  The enumerate object yields pairs containing a count (from start, which\n",
            " |  defaults to zero) and a value yielded by the iterable argument.\n",
            " |  \n",
            " |  enumerate is useful for obtaining an indexed list:\n",
            " |      (0, seq[0]), (1, seq[1]), (2, seq[2]), ...\n",
            " |  \n",
            " |  Methods defined here:\n",
            " |  \n",
            " |  __getattribute__(self, name, /)\n",
            " |      Return getattr(self, name).\n",
            " |  \n",
            " |  __iter__(self, /)\n",
            " |      Implement iter(self).\n",
            " |  \n",
            " |  __next__(self, /)\n",
            " |      Implement next(self).\n",
            " |  \n",
            " |  __reduce__(...)\n",
            " |      Return state information for pickling.\n",
            " |  \n",
            " |  ----------------------------------------------------------------------\n",
            " |  Class methods defined here:\n",
            " |  \n",
            " |  __class_getitem__(...) from builtins.type\n",
            " |      See PEP 585\n",
            " |  \n",
            " |  ----------------------------------------------------------------------\n",
            " |  Static methods defined here:\n",
            " |  \n",
            " |  __new__(*args, **kwargs) from builtins.type\n",
            " |      Create and return a new object.  See help(type) for accurate signature.\n",
            "\n"
          ]
        }
      ]
    },
    {
      "cell_type": "markdown",
      "source": [
        "DEFINING A FUNCTION AND Calling it"
      ],
      "metadata": {
        "id": "1pWVQ5KlESMc"
      }
    },
    {
      "cell_type": "code",
      "source": [
        "def square(x):\n",
        "  \"\"\"this function calculates the square of a number\"\"\"\n",
        "  l  = x ** 2\n",
        "  return l\n",
        "#calling the function\n",
        "l = square(6)\n",
        "print(l)"
      ],
      "metadata": {
        "colab": {
          "base_uri": "https://localhost:8080/"
        },
        "id": "6BVMKYmLB5xH",
        "outputId": "e73d7567-2b31-4260-998f-b938653b2f2e"
      },
      "execution_count": 15,
      "outputs": [
        {
          "output_type": "stream",
          "name": "stdout",
          "text": [
            "36\n"
          ]
        }
      ]
    },
    {
      "cell_type": "markdown",
      "source": [
        "OR"
      ],
      "metadata": {
        "id": "zuaP9WUfEP-y"
      }
    },
    {
      "cell_type": "code",
      "source": [
        "def cube(x):\n",
        "  return pow(x, 2)\n",
        "\n",
        "print(cube(3)) # or we can say, l = square(6) ; print(l)\n"
      ],
      "metadata": {
        "colab": {
          "base_uri": "https://localhost:8080/"
        },
        "id": "32eke_D9DUkc",
        "outputId": "f50b18f7-d40e-4434-d91c-c898ded7a27f"
      },
      "execution_count": 17,
      "outputs": [
        {
          "output_type": "stream",
          "name": "stdout",
          "text": [
            "9\n"
          ]
        }
      ]
    },
    {
      "cell_type": "markdown",
      "source": [
        "FORMAT COMMAND - USED TO GIVE VALUES TO A FUNCTION WE DEFINE MULTIPE TIMES\n"
      ],
      "metadata": {
        "id": "fBHNExSbFIi3"
      }
    },
    {
      "cell_type": "code",
      "source": [
        "def dodo(x = 21, name = 'diya', profession = 'analyst'):\n",
        "  print(\"{} is {} years old and works as a {}\".format(name, x , profession,))\n",
        "\n",
        "dodo(74, 'Narendra Modi', 'Prime Minister')"
      ],
      "metadata": {
        "colab": {
          "base_uri": "https://localhost:8080/"
        },
        "id": "2eQT2_6OEjck",
        "outputId": "d8811f01-ad78-4c6a-8039-6f05383c693e"
      },
      "execution_count": 21,
      "outputs": [
        {
          "output_type": "stream",
          "name": "stdout",
          "text": [
            "Narendra Modi is 74 years old and works as a Prime Minister\n"
          ]
        }
      ]
    },
    {
      "cell_type": "markdown",
      "source": [
        "DYNAMIC FUNCTION and PARAMETERS"
      ],
      "metadata": {
        "id": "0IAYbj02Lehc"
      }
    },
    {
      "cell_type": "code",
      "source": [
        "def dynamic_func(*abc):   # * means we can give any number of parameters inside the ()\n",
        "  param_1 = abc[0]        # * only defines elements that are numbers and not string values\n",
        "  param_2 = abc[2]\n",
        "  param_3 = abc[4]\n",
        "  print((param_1 + param_2) * param_3)\n",
        "\n",
        "dynamic_func(2, 25, 4, 75, 17)\n",
        "\n",
        "\n"
      ],
      "metadata": {
        "colab": {
          "base_uri": "https://localhost:8080/"
        },
        "id": "fn5U5keiLB2x",
        "outputId": "04133a6d-84c6-47d9-eb3f-6f97b8347225"
      },
      "execution_count": 23,
      "outputs": [
        {
          "output_type": "stream",
          "name": "stdout",
          "text": [
            "102\n"
          ]
        }
      ]
    },
    {
      "cell_type": "code",
      "source": [
        "6 * 17\n",
        "\n"
      ],
      "metadata": {
        "colab": {
          "base_uri": "https://localhost:8080/"
        },
        "id": "dUcaYZ7AMn2v",
        "outputId": "061ba9b0-b4c3-41d9-a480-9c75536a1f48"
      },
      "execution_count": 24,
      "outputs": [
        {
          "output_type": "execute_result",
          "data": {
            "text/plain": [
              "102"
            ]
          },
          "metadata": {},
          "execution_count": 24
        }
      ]
    },
    {
      "cell_type": "code",
      "source": [
        "def dyn_info(**dyn_keys) # ** is used for any value ie string or keyword of number\n"
      ],
      "metadata": {
        "id": "GDnSasjPM0NE"
      },
      "execution_count": null,
      "outputs": []
    },
    {
      "cell_type": "markdown",
      "source": [
        "L is a local variable here, if we take it out of the loop or function - and try to run - it wont work."
      ],
      "metadata": {
        "id": "03mM5jXOPSkU"
      }
    },
    {
      "cell_type": "code",
      "source": [
        "l  = x ** 2\n",
        "def square(x):\n",
        "  \"\"\"this function calculates the square of a number\"\"\"\n",
        "\n",
        "  return l\n",
        "#calling the function\n",
        "l = square(6)\n",
        "print(l)"
      ],
      "metadata": {
        "colab": {
          "base_uri": "https://localhost:8080/",
          "height": 211
        },
        "id": "cx3sw42kPErG",
        "outputId": "b90456c8-fc61-4627-b63c-7740b53d48e2"
      },
      "execution_count": 25,
      "outputs": [
        {
          "output_type": "error",
          "ename": "NameError",
          "evalue": "name 'x' is not defined",
          "traceback": [
            "\u001b[0;31m---------------------------------------------------------------------------\u001b[0m",
            "\u001b[0;31mNameError\u001b[0m                                 Traceback (most recent call last)",
            "\u001b[0;32m<ipython-input-25-a584ef9961bf>\u001b[0m in \u001b[0;36m<cell line: 1>\u001b[0;34m()\u001b[0m\n\u001b[0;32m----> 1\u001b[0;31m \u001b[0ml\u001b[0m  \u001b[0;34m=\u001b[0m \u001b[0mx\u001b[0m \u001b[0;34m**\u001b[0m \u001b[0;36m2\u001b[0m\u001b[0;34m\u001b[0m\u001b[0;34m\u001b[0m\u001b[0m\n\u001b[0m\u001b[1;32m      2\u001b[0m \u001b[0;32mdef\u001b[0m \u001b[0msquare\u001b[0m\u001b[0;34m(\u001b[0m\u001b[0mx\u001b[0m\u001b[0;34m)\u001b[0m\u001b[0;34m:\u001b[0m\u001b[0;34m\u001b[0m\u001b[0;34m\u001b[0m\u001b[0m\n\u001b[1;32m      3\u001b[0m   \u001b[0;34m\"\"\"this function calculates the square of a number\"\"\"\u001b[0m\u001b[0;34m\u001b[0m\u001b[0;34m\u001b[0m\u001b[0m\n\u001b[1;32m      4\u001b[0m \u001b[0;34m\u001b[0m\u001b[0m\n\u001b[1;32m      5\u001b[0m   \u001b[0;32mreturn\u001b[0m \u001b[0ml\u001b[0m\u001b[0;34m\u001b[0m\u001b[0;34m\u001b[0m\u001b[0m\n",
            "\u001b[0;31mNameError\u001b[0m: name 'x' is not defined"
          ]
        }
      ]
    },
    {
      "cell_type": "markdown",
      "source": [
        "To make a local variable as global, we add the word - GLOBAL before the variable and then we can use it outside the function"
      ],
      "metadata": {
        "id": "5GHLaCqIPoDf"
      }
    },
    {
      "cell_type": "code",
      "source": [
        "def square(x):\n",
        "  L = x ** 2\n",
        "  return l\n",
        "l = square(3)\n",
        "print(l)"
      ],
      "metadata": {
        "colab": {
          "base_uri": "https://localhost:8080/"
        },
        "id": "O8nmb2DJPjiF",
        "outputId": "5595b714-c8fa-4937-83b4-09ee1992ec7c"
      },
      "execution_count": 28,
      "outputs": [
        {
          "output_type": "stream",
          "name": "stdout",
          "text": [
            "36\n"
          ]
        }
      ]
    },
    {
      "cell_type": "markdown",
      "source": [
        "### LAMBDA FUNCTION - VERY IMPORTANT - defines a simple func for a short duration- doesnt continue the variables oitside the func"
      ],
      "metadata": {
        "id": "sKT4QSdGRmOx"
      }
    },
    {
      "cell_type": "code",
      "source": [
        "age = lambda a: a + 50\n",
        "print(age(21))"
      ],
      "metadata": {
        "colab": {
          "base_uri": "https://localhost:8080/"
        },
        "id": "JBojH18nQZOk",
        "outputId": "b052b353-0140-4f88-ccd3-08a52d0d1190"
      },
      "execution_count": 37,
      "outputs": [
        {
          "output_type": "stream",
          "name": "stdout",
          "text": [
            "71\n"
          ]
        }
      ]
    },
    {
      "cell_type": "markdown",
      "source": [
        "MAP LAMBDA - FOR MULTIPLE VALUES IN A **LIST**"
      ],
      "metadata": {
        "id": "XZ4NeVHZTK3C"
      }
    },
    {
      "cell_type": "code",
      "source": [
        "age = [21, 22, 23, 24, 25]\n",
        "\n",
        "output = list(map(lambda x: x + 50, age)) # map uses two arguments - first the operation, then define the list we are using\n",
        "print(output)\n"
      ],
      "metadata": {
        "colab": {
          "base_uri": "https://localhost:8080/"
        },
        "id": "UrY-S5PmR8V5",
        "outputId": "4dd06107-1521-4747-d6e3-225afb2d79bd"
      },
      "execution_count": 40,
      "outputs": [
        {
          "output_type": "stream",
          "name": "stdout",
          "text": [
            "[71, 72, 73, 74, 75]\n"
          ]
        }
      ]
    },
    {
      "cell_type": "markdown",
      "source": [
        "FILTER LAMBDA - filter out the values from the lambda funtion from the list"
      ],
      "metadata": {
        "id": "fnBWgcdSUHcz"
      }
    },
    {
      "cell_type": "code",
      "source": [
        "age = [15, 16, 19, 20, 25, 30]\n",
        "\n",
        "output = list(filter(lambda x: x >= 20, age)) # filter func filters the values in the list as per the condition defined\n",
        "\n",
        "print(output)"
      ],
      "metadata": {
        "colab": {
          "base_uri": "https://localhost:8080/"
        },
        "id": "M_uuIgF7Tjrx",
        "outputId": "4e1f878b-d3c7-447a-a089-e0a4a8cc7393"
      },
      "execution_count": 41,
      "outputs": [
        {
          "output_type": "stream",
          "name": "stdout",
          "text": [
            "[20, 25, 30]\n"
          ]
        }
      ]
    },
    {
      "cell_type": "code",
      "source": [
        "10 / 0\n"
      ],
      "metadata": {
        "colab": {
          "base_uri": "https://localhost:8080/",
          "height": 141
        },
        "id": "Te9fckizUetA",
        "outputId": "2c5451a3-073c-484f-dba8-bae00217c478"
      },
      "execution_count": 42,
      "outputs": [
        {
          "output_type": "error",
          "ename": "ZeroDivisionError",
          "evalue": "division by zero",
          "traceback": [
            "\u001b[0;31m---------------------------------------------------------------------------\u001b[0m",
            "\u001b[0;31mZeroDivisionError\u001b[0m                         Traceback (most recent call last)",
            "\u001b[0;32m<ipython-input-42-cd759d3fcf39>\u001b[0m in \u001b[0;36m<cell line: 1>\u001b[0;34m()\u001b[0m\n\u001b[0;32m----> 1\u001b[0;31m \u001b[0;36m10\u001b[0m \u001b[0;34m/\u001b[0m \u001b[0;36m0\u001b[0m\u001b[0;34m\u001b[0m\u001b[0;34m\u001b[0m\u001b[0m\n\u001b[0m",
            "\u001b[0;31mZeroDivisionError\u001b[0m: division by zero"
          ]
        }
      ]
    },
    {
      "cell_type": "markdown",
      "source": [
        "TRY EXCEPT FINALLY"
      ],
      "metadata": {
        "id": "uwHIosC_VJgM"
      }
    },
    {
      "cell_type": "code",
      "source": [
        "try:\n",
        "  result = int(input('Please give a number '))\n",
        "  print(result)\n",
        "except ZeroDivisionError: # the error expected ie not compulsory we can only write except also ->\n",
        "  print('Zero division error')\n",
        "finally:\n",
        "  print('zero!')\n"
      ],
      "metadata": {
        "colab": {
          "base_uri": "https://localhost:8080/"
        },
        "id": "rDXSWdgMU_0o",
        "outputId": "b09c6328-6b6e-40f8-8adf-2b95f274b2d1"
      },
      "execution_count": 44,
      "outputs": [
        {
          "output_type": "stream",
          "name": "stdout",
          "text": [
            "Zero division error\n",
            "value!\n"
          ]
        }
      ]
    },
    {
      "cell_type": "code",
      "source": [],
      "metadata": {
        "id": "sUqjjdBjVOlV"
      },
      "execution_count": null,
      "outputs": []
    }
  ]
}